{
 "cells": [
  {
   "cell_type": "markdown",
   "id": "ca1b4282-d82c-419f-a3c5-9ca85527135c",
   "metadata": {},
   "source": [
    "# Phone Book"
   ]
  },
  {
   "cell_type": "markdown",
   "id": "38a4e777-4919-4655-b4e3-bde5607c7a84",
   "metadata": {},
   "source": [
    "This project is to create an Address book using python in which the user can add a new contact, edit and delete existing contact and view all the contact using Tkinter and SQlite.\n",
    "Tkinter library for rendering graphics and SQlite is used for database.\n",
    "\n",
    "## Usage\n",
    "* In this python project, the user has button functionality to trigger that specific function.\n",
    "* eg –To edit a contact, the user has to fill the Name, phone no field and then click on edit button.\n",
    "To add a new contact,the user has to to fill the Name, phone no field and then click on add button."
   ]
  },
  {
   "cell_type": "code",
   "execution_count": 2,
   "id": "5ee57e91-002a-4946-b218-7a24e229cfbf",
   "metadata": {},
   "outputs": [],
   "source": [
    "#importing all the required libraries\n",
    "\n",
    "import sqlite3\n",
    "from sqlite3 import Error\n",
    "from tkinter import *\n",
    "import tkinter.messagebox"
   ]
  },
  {
   "cell_type": "code",
   "execution_count": 4,
   "id": "f05652b5-c7ba-4665-8480-d9f8798230af",
   "metadata": {},
   "outputs": [],
   "source": [
    "# Variables\n",
    "\n",
    "root = Tk()\n",
    "root.geometry('600x370')\n",
    "list_of_names=[]\n",
    "root.title('AddressBook')\n",
    "Name = StringVar()\n",
    "Number = StringVar()"
   ]
  },
  {
   "cell_type": "code",
   "execution_count": 5,
   "id": "6091ef30-32c2-40ac-ada8-9a5b6b1855e3",
   "metadata": {},
   "outputs": [],
   "source": [
    "#Creating a database connection to the SQLite database\n",
    "\n",
    "def create_connection(db_file):\n",
    "    conn = None\n",
    "    try:\n",
    "        conn = sqlite3.connect(db_file)\n",
    "        r_set=conn.execute('''SELECT * from tasks''');\n",
    "        for student in r_set:\n",
    "            list_of_names.append(student[1])\n",
    "        return conn\n",
    "    except Error as e:\n",
    "        print(e)\n",
    "    return conn"
   ]
  },
  {
   "cell_type": "code",
   "execution_count": 6,
   "id": "c1243463-45f4-4bac-91e9-26d49ea03bd7",
   "metadata": {},
   "outputs": [],
   "source": [
    "#Create a table from the create_table_sql statement\n",
    "\n",
    "def create_table(conn, create_table_sql):\n",
    "    try:\n",
    "        c = conn.cursor()\n",
    "        c.execute(create_table_sql)\n",
    "    except Error as e:\n",
    "        print(e)\n",
    "    return"
   ]
  },
  {
   "cell_type": "code",
   "execution_count": 7,
   "id": "460a358a-7f13-4e9d-9534-43773f68a4e6",
   "metadata": {},
   "outputs": [],
   "source": [
    "#Displaying added/deleted message\n",
    "\n",
    "def onClickAdded():\n",
    "    tkinter.messagebox.showinfo(\" \",Name.get()+\" Added\")\n",
    "\n",
    "def onClickDeleted():\n",
    "    tkinter.messagebox.showinfo(\" \",Name.get()+\" Deleted\")"
   ]
  },
  {
   "cell_type": "code",
   "execution_count": 8,
   "id": "4f11218d-9988-4aa8-be20-1445700c4b7e",
   "metadata": {},
   "outputs": [],
   "source": [
    "#Create row with Phone Book Data\n",
    "\n",
    "def create_task():\n",
    "    sql = ''' INSERT INTO tasks(name,status_id)\n",
    "              VALUES(?,?) '''\n",
    "    if(Name.get() not in list_of_names):\n",
    "        \n",
    "        if((Name.get()=='') | (Number.get()=='') | (len(Number.get())!=10)):\n",
    "            top = Toplevel(root)\n",
    "            top.geometry('180x100')\n",
    "            if((Number.get()=='') | (len(Number.get())!=10)):\n",
    "                myLabel = Label(top, text=\"Phone no should be 10  digits\\n\")\n",
    "            else:\n",
    "                myLabel = Label(top, text=\"NAME IS EMPTY\\n\")\n",
    "            myLabel.pack()\n",
    "            mySubmitButton = Button(top, text=' Back ', command=top.destroy)\n",
    "            mySubmitButton.pack()\n",
    "            return\n",
    "        onClickAdded()\n",
    "        cur = conn.cursor()\n",
    "        cur.execute(sql, (Name.get(),Number.get()))\n",
    "        conn.commit()\n",
    "        return cur.lastrowid\n",
    "    else:\n",
    "        top = Toplevel(root)\n",
    "        top.geometry('180x100')\n",
    "        if(Name.get()==''):\n",
    "            myLabel = Label(top, text=\"NAME IS EMPTY\\n\")\n",
    "        elif((Number.get()=='') | (len(Number.get())!=10)):\n",
    "            myLabel = Label(top, text=\"Phone no should be 10  digits\\n\")\n",
    "        else:\n",
    "            myLabel = Label(top, text=Name.get()+\"  Already Exist\\n\")\n",
    "        myLabel.pack()\n",
    "        mySubmitButton = Button(top, text=' Back ', command=top.destroy)\n",
    "        mySubmitButton.pack()"
   ]
  },
  {
   "cell_type": "code",
   "execution_count": 9,
   "id": "4c6fd2af-7d2d-4c31-8edf-0b6d6291a577",
   "metadata": {},
   "outputs": [],
   "source": [
    "# Query Tasks by Name\n",
    "       \n",
    "def select_task_by_name():\n",
    "    cur = conn.cursor()\n",
    "    cur.execute(\"SELECT * FROM tasks WHERE name=?\", (Name.get(),))\n",
    "    rows = cur.fetchall()\n",
    "    if(len(rows)==0):\n",
    "        inputDialog = MyDialog(root)\n",
    "        root.wait_window(inputDialog.top)\n",
    "    else:\n",
    "        Number.set(rows[0][2])\n",
    "        "
   ]
  },
  {
   "cell_type": "code",
   "execution_count": 10,
   "id": "7a3a0e33-cf8f-4f51-820e-e1e142941c9e",
   "metadata": {},
   "outputs": [],
   "source": [
    "#Editing phone no, if name not found then it gives a warning saying \"NOT Found\"\n",
    "\n",
    "def update_task():\n",
    "    \"\"\"\n",
    "    update priority, begin_date, and end date of a task\n",
    "    :param conn:\n",
    "    :param task:\n",
    "    :return: project id\n",
    "    \"\"\"\n",
    "    sql = ''' UPDATE tasks\n",
    "              SET status_id = ?   \n",
    "              WHERE name = ?'''\n",
    "    if((Name.get() not in list_of_names) | (Name.get()=='')):\n",
    "        inputDialog = MyDialog(root)\n",
    "        root.wait_window(inputDialog.top)\n",
    "        return\n",
    "    cur = conn.cursor()\n",
    "    cur.execute(sql, (Number.get(),Name.get()))\n",
    "    conn.commit()"
   ]
  },
  {
   "cell_type": "code",
   "execution_count": 11,
   "id": "6abc9e4a-4d8a-493e-8dc5-3c96cf785bca",
   "metadata": {},
   "outputs": [],
   "source": [
    "#Delete a task by name.if not found ,gives a warning!!!\n",
    "\n",
    "def delete_task():\n",
    "    if((Name.get() not in list_of_names) | (Name.get()=='')):\n",
    "        inputDialog = MyDialog(root)\n",
    "        root.wait_window(inputDialog.top)\n",
    "        return\n",
    "    onClickDeleted()\n",
    "    sql = 'DELETE FROM tasks WHERE name=?'\n",
    "    cur = conn.cursor()\n",
    "    cur.execute(sql, (Name.get(),))\n",
    "    conn.commit()"
   ]
  },
  {
   "cell_type": "code",
   "execution_count": 12,
   "id": "689650dc-fb56-49a8-b20f-6c8f6dc513a0",
   "metadata": {},
   "outputs": [],
   "source": [
    "#Get all rows in the tasks table\n",
    "\n",
    "def select_all_tasks():\n",
    "    r_set=conn.execute('''SELECT * from tasks''');\n",
    "    i=0\n",
    "    j=0\n",
    "    top = Toplevel(root)\n",
    "    for student in r_set:\n",
    "        list_of_names.append(student[1])\n",
    "        for j in range(len(student)):\n",
    "            e = Entry(top, width=11, fg='Gray20') \n",
    "            e.grid(row=i, column=j) \n",
    "            e.insert(END, student[j])\n",
    "        i=i+1\n",
    "    okButton= Button(top, text=' ok ', command=top.destroy)\n",
    "    if(j==0):\n",
    "        j=1\n",
    "    okButton.grid(row=i+3, column=j-1) "
   ]
  },
  {
   "cell_type": "code",
   "execution_count": null,
   "id": "ae0dca86-c5b0-4a96-b439-b7d6025ad9cf",
   "metadata": {},
   "outputs": [],
   "source": [
    "#Getting the path of database and defining the table to be created\n",
    "\n",
    "database = r\"./Address-Book/addressbook.db\"\n",
    "sql_create_tasks_table = \"\"\"CREATE TABLE IF NOT EXISTS tasks (\n",
    "                                    id integer PRIMARY KEY,\n",
    "                                    name text NOT NULL,\n",
    "                                    status_id integer NOT NULL\n",
    "                                  \n",
    "                                );\"\"\""
   ]
  },
  {
   "cell_type": "code",
   "execution_count": null,
   "id": "ae907005-d04b-45f3-a64b-409f3c6ea9c6",
   "metadata": {},
   "outputs": [],
   "source": [
    "#Creating connection and gives error message if connection failed\n",
    "\n",
    "conn = create_connection(database)\n",
    "if conn is not None:\n",
    "    create_table(conn, sql_create_tasks_table)\n",
    "else:\n",
    "    print(\"Error! Cannot establish connection.\")        \n"
   ]
  },
  {
   "cell_type": "code",
   "execution_count": null,
   "id": "133595c4-6333-4c27-83ab-2fe99e157f6e",
   "metadata": {},
   "outputs": [],
   "source": [
    "#creating dialog box for warnings!\n",
    "\n",
    "class MyDialog:\n",
    "    def __init__(self, parent):\n",
    "        top = self.top = Toplevel(parent)\n",
    "        self.myLabel = Label(top, text=Name.get().upper()+\" NOT FOUND!\")\n",
    "        self.myLabel.pack()\n",
    "        self.mySubmitButton = Button(top, text='Exit', command=self.send)\n",
    "        self.mySubmitButton.pack()\n",
    "\n",
    "    def send(self):\n",
    "        self.top.destroy()"
   ]
  },
  {
   "cell_type": "code",
   "execution_count": null,
   "id": "ff447636-5661-4a9a-b8e1-8a59e9dadd31",
   "metadata": {},
   "outputs": [],
   "source": [
    "#Exiting from the application\n",
    "\n",
    "def EXIT():\n",
    "    root.destroy()\n",
    "\n",
    "#Resetting Name and phone no field\n",
    "\n",
    "def RESET():\n",
    "    Name.set('')\n",
    "    Number.set('')\n",
    "\n",
    "#Creating UI for whole application\n",
    "\n",
    "Label(root, text = 'NAME', font='Times 15 bold').place(x= 130, y=20)\n",
    "Entry(root, textvariable = Name,width=42).place(x= 200, y=25)\n",
    "Label(root, text = 'PHONE NO ', font='Times 15 bold').place(x= 130, y=70)\n",
    "Entry(root, textvariable = Number,width=35).place(x= 242, y=73)\n",
    "Button(root,text=\" ADD\", font='Times 14 bold',bg='dark gray', command = create_task,width=8).place(x= 130, y=110)\n",
    "Button(root,text=\"EDIT\", font='Times 14 bold',bg='dark gray',command = update_task,width=8).place(x= 260, y=108)\n",
    "Button(root,text=\"DELETE\", font='Times 14 bold',bg='dark gray',command = delete_task,width=8).place(x= 390, y=107.5)\n",
    "Button(root,text=\"VIEW ALL\", font='Times 14 bold',bg='dark gray', command = select_all_tasks,width=12).place(x= 160, y=191)\n",
    "Button(root,text=\"VIEW BY NAME\", font='Times 14 bold',bg='dark gray', command = select_task_by_name,width=13).place(x= 330, y=190)\n",
    "Button(root,text=\"EXIT\", font='Times 14 bold',bg='dark gray', command = EXIT,width=8).place(x= 200, y=280)\n",
    "Button(root,text=\"RESET\", font='Times 14 bold',bg='dark gray', command = RESET,width=8).place(x= 320, y=280)\n",
    "root.mainloop()"
   ]
  }
 ],
 "metadata": {
  "kernelspec": {
   "display_name": "Python 3 (ipykernel)",
   "language": "python",
   "name": "python3"
  },
  "language_info": {
   "codemirror_mode": {
    "name": "ipython",
    "version": 3
   },
   "file_extension": ".py",
   "mimetype": "text/x-python",
   "name": "python",
   "nbconvert_exporter": "python",
   "pygments_lexer": "ipython3",
   "version": "3.9.12"
  }
 },
 "nbformat": 4,
 "nbformat_minor": 5
}
